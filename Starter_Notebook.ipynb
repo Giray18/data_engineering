{
 "cells": [
  {
   "cell_type": "markdown",
   "metadata": {
    "application/vnd.databricks.v1+cell": {
     "cellMetadata": {
      "byteLimit": 2048000,
      "rowLimit": 10000
     },
     "inputWidgets": {},
     "nuid": "3e47dcb8-e22a-477e-bd36-fb3b6aec3e85",
     "showTitle": false,
     "title": ""
    }
   },
   "source": [
    "##Starter_Notebook, \n",
    "### This notebook will initiate notebook runs as needed to populate 3 layer one after another"
   ]
  },
  {
   "cell_type": "markdown",
   "metadata": {
    "application/vnd.databricks.v1+cell": {
     "cellMetadata": {
      "byteLimit": 2048000,
      "rowLimit": 10000
     },
     "inputWidgets": {},
     "nuid": "da197ff6-9097-468b-bdd5-1b388e0aeea4",
     "showTitle": false,
     "title": ""
    }
   },
   "source": [
    "## Creating variables (Notebook Names to be run)"
   ]
  },
  {
   "cell_type": "code",
   "execution_count": 0,
   "metadata": {
    "application/vnd.databricks.v1+cell": {
     "cellMetadata": {
      "byteLimit": 2048000,
      "rowLimit": 10000
     },
     "inputWidgets": {},
     "nuid": "0e020c14-f89b-4263-8da7-250c930ad932",
     "showTitle": false,
     "title": ""
    }
   },
   "outputs": [],
   "source": [
    "notebook_names = [\"Bronze_Layer_Notebook\",\"Silver_Layer_Notebook\",\"Golden_Layer_Notebook\"]"
   ]
  },
  {
   "cell_type": "markdown",
   "metadata": {
    "application/vnd.databricks.v1+cell": {
     "cellMetadata": {
      "byteLimit": 2048000,
      "rowLimit": 10000
     },
     "inputWidgets": {},
     "nuid": "36bf0097-6daf-498f-ab00-2e1601fef28a",
     "showTitle": false,
     "title": ""
    }
   },
   "source": [
    "## Getting day parameter from work flow managers (e.g. Azure Data Factory, Airflow etc.)"
   ]
  },
  {
   "cell_type": "code",
   "execution_count": 0,
   "metadata": {
    "application/vnd.databricks.v1+cell": {
     "cellMetadata": {
      "byteLimit": 2048000,
      "rowLimit": 10000
     },
     "inputWidgets": {},
     "nuid": "c15f4bc7-c3fd-4c88-bcfc-c433aa9875ee",
     "showTitle": false,
     "title": ""
    }
   },
   "outputs": [],
   "source": [
    "day_parameter = dbutils.widgets.dropdown(\"day_parameter\", \"15\", [\"2\", \"8\", \"15\", \"31\"])\n",
    "\n",
    "day_amount = dbutils.widgets.get(\"day_parameter\")\n",
    "\n",
    "# day_amount = \"30\""
   ]
  },
  {
   "cell_type": "markdown",
   "metadata": {
    "application/vnd.databricks.v1+cell": {
     "cellMetadata": {
      "byteLimit": 2048000,
      "rowLimit": 10000
     },
     "inputWidgets": {},
     "nuid": "9cf1bc38-6d34-4194-b415-083a2cfa8f82",
     "showTitle": false,
     "title": ""
    }
   },
   "source": [
    "## Running Notebooks"
   ]
  },
  {
   "cell_type": "code",
   "execution_count": 0,
   "metadata": {
    "application/vnd.databricks.v1+cell": {
     "cellMetadata": {
      "byteLimit": 2048000,
      "rowLimit": 10000
     },
     "inputWidgets": {},
     "nuid": "e2c6b705-2948-4610-b9a4-11967b9aa692",
     "showTitle": false,
     "title": ""
    }
   },
   "outputs": [
    {
     "output_type": "stream",
     "name": "stdout",
     "output_type": "stream",
     "text": [
      "Bronze_Layer_Notebook\nSilver_Layer_Notebook\nGolden_Layer_Notebook\n"
     ]
    }
   ],
   "source": [
    "for notebook_name in notebook_names:\n",
    "    print(notebook_name)\n",
    "    if notebook_name == \"Golden_Layer_Notebook\":\n",
    "        dbutils.notebook.run(f'{notebook_name}',1000)\n",
    "    else:\n",
    "        dbutils.notebook.run(f'{notebook_name}',1000, {\"day_parameter\": f\"{day_amount}\"}) \n",
    "    \n",
    "    "
   ]
  }
 ],
 "metadata": {
  "application/vnd.databricks.v1+notebook": {
   "dashboards": [],
   "language": "python",
   "notebookMetadata": {
    "pythonIndentUnit": 4
   },
   "notebookName": "Starter_Notebook",
   "widgets": {
    "day_parameter": {
     "currentValue": "15",
     "nuid": "4e1ca511-2a07-42a2-b6b4-087405d9e3f6",
     "widgetInfo": {
      "widgetType": "dropdown",
      "defaultValue": "15",
      "label": null,
      "name": "day_parameter",
      "options": {
       "widgetType": "dropdown",
       "autoCreated": null,
       "choices": [
        "2",
        "8",
        "15",
        "31"
       ]
      }
     }
    }
   }
  }
 },
 "nbformat": 4,
 "nbformat_minor": 0
}
